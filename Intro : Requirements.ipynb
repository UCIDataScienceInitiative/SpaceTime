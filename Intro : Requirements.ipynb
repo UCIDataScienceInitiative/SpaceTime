{
 "cells": [
  {
   "cell_type": "markdown",
   "metadata": {
    "deletable": true,
    "editable": true
   },
   "source": [
    "# Introduction to Spatial-Temporal Statistics"
   ]
  },
  {
   "cell_type": "markdown",
   "metadata": {
    "deletable": true,
    "editable": true
   },
   "source": [
    "Welcome to the Introduction to Spatial-Temporal Statistics workshop! "
   ]
  },
  {
   "cell_type": "markdown",
   "metadata": {
    "deletable": true,
    "editable": true
   },
   "source": [
    "**Knowledge requirements**:\n",
    "    An introductory knowledge of either R or Python is required for the exercises, and a background with either at least one statistics course, or some experience analyzing environmental data, is also recommended. "
   ]
  },
  {
   "cell_type": "markdown",
   "metadata": {
    "deletable": true,
    "editable": true
   },
   "source": [
    "For this workshop we use Jupyter notebooks, which provides a convenient way to share scripts and run them right in the notebook! Jupyter notebooks comes autoamtically with the Anaconda python platform. \n",
    "\n",
    "** Steps for setting up: **\n",
    "1. Go to the main page of this Github respository (<https://github.com/UCIDataScienceInitiative/SpaceTime>), click on \"*clone or download*\" in the top-right corner, and select \"*Download ZIP*\" to download the whole repository on your computer. Keep track of where you are downloading the file! Unzip the respository if your browser has not done it automatically.\n",
    "\n",
    "2. Download the latest version of Anaconda for your operating system: <https://www.continuum.io/downloads> and follow the instructions to install.\n",
    "\n",
    "3. *[R users only]* Note that Anaconda comes with the Python kernel, but if you are using R, you also need to install the R kernel. For this, go to command line and type\n",
    "```\n",
    "conda install -c r r-essentials\n",
    "```\n",
    "\n",
    "4. *[Python users only]* **Python Package Requirements**: Most required packages such as numpy, pandas, scipy, and matplotlib come with the Anaconda installation. However, you also need the rpy2 and statsmodels packages. You can use the Conda install command in command-line (or the Anaconda prompt in Windows):\n",
    "```\n",
    "conda install rpy2\n",
    "conda install statsmodels\n",
    "```\n",
    "\n",
    "5. *[Python users only]* **R Packages in Python**: Open up a Python session (in terminal or Acandona prompt on Windows) and install `gstat` as follows:\n",
    "```\n",
    "from rpy2.robjects.packages import importr\n",
    "utils = importr(\"utils\")\n",
    "utils.install_packages('gstat')\n",
    "```\n",
    "\n",
    "6. *[R users only]* **R Package Requirements**: If you don't already have the following packages, then at the R command line, type\n",
    "```\n",
    "install.packages(c('nlme', 'fields', 'gstat', 'sp'))\n",
    "```\n",
    "\n",
    "7. Open Jupyter notebook: In command prompt or the Anaconda prompt in Windows, navigate to where you downloaded this repository and type in\n",
    "```\n",
    "jupyter notebook\n",
    "```\n",
    "This should open up Jupyter on your browser from the directory that you navigated to above. On the main page of the respository on Jupyter, click on this notebook (*Intro: Requirements*). \n",
    "The kernel of your notebook should load automatically but you can also switch between kernels by using the 'Kernel' $\\rightarrow$ 'Change kernel' from the top menu bar.\n",
    "\n",
    "8. Try running one of the two cells below below for `Python` or `R` depending on what you will be using, to test if everythig is installed.  Just click on the cell and press `Cntr + Enter` to run it, or just use the *run* button from the menu on top."
   ]
  },
  {
   "cell_type": "markdown",
   "metadata": {},
   "source": [
    "**Python test**"
   ]
  },
  {
   "cell_type": "code",
   "execution_count": null,
   "metadata": {
    "collapsed": false
   },
   "outputs": [],
   "source": [
    "import numpy as np\n",
    "import rpy2.robjects as robjects\n",
    "from rpy2.robjects.packages import importr\n",
    "import statsmodels.api as sm\n",
    "import matplotlib.pyplot as plt\n",
    "import pandas as pd\n",
    "import scipy.spatial\n",
    "import scipy.linalg\n",
    "from IPython.display import display\n",
    "from rpy2.robjects import pandas2ri\n",
    "pandas2ri.activate()\n",
    "\n",
    "#-- Import R packages in Python\n",
    "r = robjects.r\n",
    "nlme = importr('nlme')\n",
    "stats = importr('stats')\n",
    "gstat = importr('gstat')\n",
    "sp = importr('sp')"
   ]
  },
  {
   "cell_type": "markdown",
   "metadata": {},
   "source": [
    "**R test**"
   ]
  },
  {
   "cell_type": "code",
   "execution_count": null,
   "metadata": {
    "collapsed": true
   },
   "outputs": [],
   "source": [
    "rm(list=ls())\n",
    "library(nlme)                              #package to fit statistical models with autocorrelation\n",
    "library(fields)                            #package for nice image plots\n",
    "library(sp)                                #package for spatial data frames\n",
    "library(gstat)                             #package for optimizing variograms\n",
    "library(colorRamps)                        #package for custom R colors"
   ]
  }
 ],
 "metadata": {
  "kernelspec": {
   "display_name": "Python 2",
   "language": "python",
   "name": "python2"
  },
  "language_info": {
   "codemirror_mode": {
    "name": "ipython",
    "version": 2
   },
   "file_extension": ".py",
   "mimetype": "text/x-python",
   "name": "python",
   "nbconvert_exporter": "python",
   "pygments_lexer": "ipython2",
   "version": "2.7.13"
  }
 },
 "nbformat": 4,
 "nbformat_minor": 2
}
