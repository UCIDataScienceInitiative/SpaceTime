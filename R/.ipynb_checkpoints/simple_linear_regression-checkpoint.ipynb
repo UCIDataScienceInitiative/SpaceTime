{
 "cells": [
  {
   "cell_type": "markdown",
   "metadata": {},
   "source": [
    "# Simple Linear Regression"
   ]
  },
  {
   "cell_type": "code",
   "execution_count": 1,
   "metadata": {
    "collapsed": true
   },
   "outputs": [],
   "source": [
    "SLR <- \"data{\n",
    "\tint N; \t\t\t//length of dataset\n",
    "\tvector[N] y;\t//response observations\n",
    "\tvector[N] x;\t//input observations\n",
    "}\n",
    "parameters{\n",
    "\treal beta0;\n",
    "\treal beta1;\n",
    "\treal<lower=0> sigma;\n",
    "}\n",
    "model{\n",
    "\tbeta0 ~ uniform(-1,1);\t\t\t\t//prior on beta0, uniform density on (-1,1)\n",
    "\tbeta1 ~ uniform(-1,1);\t\t\t\t//prior on beta1\n",
    "\ty ~ normal(beta0 + beta1*x, sigma);\t//likelihood model; p(y|x,beta0,beta1,sigma) ~ Gaussian \n",
    "}\n",
    "generated quantities{\n",
    "\tvector[N] y_pred;     //predictive distribution\n",
    "\tvector[N] log_lik;    //marginal log likelihood for model comparison later on\n",
    "\n",
    "\tfor (i in 1:N)\n",
    "\t\ty_pred[i] = beta0 + beta1*x[i]; //generate prediction for y within MCMC step for parameters\n",
    "\tfor (i in 1:N)\n",
    "\t\tlog_lik[i] = normal_lpdf(y[i] | beta0 + beta1*x[i], sigma);  //compute marginal log-likelihood within MCMC\n",
    "}\""
   ]
  },
  {
   "cell_type": "code",
   "execution_count": 3,
   "metadata": {
    "collapsed": false
   },
   "outputs": [],
   "source": [
    "library(rstan)                                #load package\n",
    "rstan_options(auto_write=TRUE)                # \n",
    "options(mc.cores = parallel::detectCores())   #allows stan to utilize multiple cores"
   ]
  },
  {
   "cell_type": "code",
   "execution_count": 6,
   "metadata": {
    "collapsed": false
   },
   "outputs": [],
   "source": [
    "mod_slr  <- stan_model(model_code=SLR)        #compile the C++ program"
   ]
  },
  {
   "cell_type": "code",
   "execution_count": 7,
   "metadata": {
    "collapsed": false
   },
   "outputs": [],
   "source": [
    "datmp  <- read.csv('D:/Dropbox/Teaching/Bayes/DSI/data/ozone_Riverside_epa.csv')    #read data as .csv file\n",
    "datmp  <- datmp[complete.cases(cbind(datmp$temp,datmp$Arithmetic.Mean)),]           #subset for ozone and temperature columns\n",
    "stan_dat <- list(y=datmp$Arithmetic.Mean[1:200], x=datmp$temp[1:200], N=200)        #subsample larger dataset into a dataframe for stan"
   ]
  },
  {
   "cell_type": "code",
   "execution_count": 9,
   "metadata": {
    "collapsed": true
   },
   "outputs": [],
   "source": [
    "fit <- sampling(mod_slr, data=stan_dat) #MCMC sampling\n",
    "post <- extract(fit)                    #extract posterior samples as a list "
   ]
  },
  {
   "cell_type": "code",
   "execution_count": 78,
   "metadata": {
    "collapsed": false
   },
   "outputs": [
    {
     "data": {
      "image/png": "[encoded data removed]",
      "text/plain": [
       "Plot with title \"\""
      ]
     },
     "metadata": {},
     "output_type": "display_data"
    }
   ],
   "source": [
    "par(mfrow=c(2,2),mar=c(3,3,3,3))\n",
    "plot(seq(-0.05,0.05,length.out=10), rep(0.5,10),type='l',ylim=c(0,4),ylab='',xlab='beta0',bty='n',main='beta0') \n",
    "    par(new=TRUE)\n",
    "    hist(post$beta0,xlim=c(-0.05,0.05),main='',xlab='',ylab='',xaxt='n',yaxt='n',bty='n',col=adjustcolor('black',alpha.f=0.5))\n",
    "    abline(v=0,lty=2)\n",
    "plot(seq(-0.00075,0.00075,length.out=10), rep(0.5,10),type='l',ylim=c(0,4),bty='n',ylab='',xlab='beta1',main='beta1')\n",
    "\tpar(new=TRUE)\n",
    "    hist(post$beta1,xlim=c(-0.00075,0.00075),main='',xlab='',ylab='',xaxt='n',yaxt='n',bty='n',col=adjustcolor('black',alpha.f=0.5))\n",
    "\tabline(v=0,lty=2)\n",
    "plot(seq(0,0.015,length.out=10), rep(0.5,10),type='l',ylim=c(0,4),bty='n',ylab='',xlab='sigma',main='sigma')\n",
    "\tpar(new=TRUE)\n",
    "    hist(post$sigma,xlim=c(0,0.015),main='',xlab='',ylab='',xaxt='n',yaxt='n',bty='n',col=adjustcolor('black',alpha.f=0.5))\n",
    "plot(stan_dat$x, stan_dat$y,xlab='Temperature [F]',ylab='Ozone [umol/kg]')\n",
    "    lines(seq(30,85),quantile(post$beta0,0.05) + quantile(post$beta1,0.05)*seq(30,85),lty=2)\n",
    "    lines(seq(30,85),quantile(post$beta0,0.50) + quantile(post$beta1,0.50)*seq(30,85),lwd=2)\n",
    "    lines(seq(30,85),quantile(post$beta0,0.95) + quantile(post$beta1,0.95)*seq(30,85),lty=2)"
   ]
  }
 ],
 "metadata": {
  "anaconda-cloud": {},
  "kernelspec": {
   "display_name": "R",
   "language": "R",
   "name": "ir"
  },
  "language_info": {
   "codemirror_mode": "r",
   "file_extension": ".r",
   "mimetype": "text/x-r-source",
   "name": "R",
   "pygments_lexer": "r",
   "version": "3.3.2"
  }
 },
 "nbformat": 4,
 "nbformat_minor": 0
}
